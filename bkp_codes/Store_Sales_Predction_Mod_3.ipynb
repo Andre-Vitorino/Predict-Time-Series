import pandas as pd
import inflection
import numpy as np 
import seaborn as sns
import matplotlib as plt 
from datetime import datetime

#criando as bases de dados 
df_sales_raw = pd.read_csv('train.csv', low_memory=False)
df_store_raw = pd.read_csv('store.csv', low_memory=False)

#unindo as bases de dados 
df_raw = pd.merge(df_sales_raw, df_store_raw, how='left', on='Store')

#criando uma cópia da base original para poder trabalhar em cima dela 
df1 = df_raw.copy()

#verificando o nome das colunas 
df1.columns

#armazenando as colunas em uma variável 
columns_old = ['Store', 'DayOfWeek', 'Date', 'Sales', 'Customers', 'Open', 'Promo',
       'StateHoliday', 'SchoolHoliday', 'StoreType', 'Assortment',
       'CompetitionDistance', 'CompetitionOpenSinceMonth',
       'CompetitionOpenSinceYear', 'Promo2', 'Promo2SinceWeek',
       'Promo2SinceYear', 'PromoInterval']


#alterando o formato dos nomes das colunas 
snakecase = lambda x: inflection.underscore(x)
cols_new = list(map(snakecase,columns_old))
df1.columns = cols_new

#verificando as dimensões do dataframe
print('Numbers of rows: {}'.format(df1.shape[0]))
print('Numbers of columns: {}'.format(df1.shape[1]))

#verificando os formatos das colunas 
df1.dtypes
#alterando o tipo da coluna 'date' para o formato datetime
df1['date'] = pd.to_datetime(df1['date'])

#verificando a quantidade de NAs por coluna 
df1.isna().sum()

#tratando as colunas com valores vazios
#competition_distance
df1['competition_distance'].fillna(200000.0, inplace=True)

#competition_open_since_month 
for n in range(len(df1)):
    if str(df1['competition_open_since_month'][n]) == 'nan':
        df1['competition_open_since_month'][n] = df1['date'][n].month

#competition_open_since_year 
for n in range(len(df1)):
    if str(df1['competition_open_since_year'][n]) == 'nan':
        df1['competition_open_since_year'][n] = df1['date'][n].year
    
#promo2_since_week  
for n in range(len(df1)):
    if str(df1['promo2_since_week'][n]) == 'nan':
        df1['promo2_since_week'][n] = df1['date'][n].week
          
#promo2_since_year  
for n in range(len(df1)):
    if str(df1['promo2_since_year'][n]) == 'nan':
        df1['promo2_since_year'][n] = df1['date'][n].year
        
            
#promo_interval   
df1['promo_interval'].fillna(0, inplace=True)           


#gerando nova coluna no df 
month_map = {1:'Jan', 2:'Fev', 3:'Mar', 4:'Apr', 5:'May', 6:'Jun', 7:'Jul', 8:'Aug', 9:'Sep', 10:'Oct', 11:'Nov', 12:'Dec'}

#criando uma nova coluna no df 
df1['month_map'] = df1['date'].dt.month.map(month_map)

df1['is_promo'] = ''

for n in range(len(df1)):
    if df1['month_map'][n] in str(df1['promo_interval'][n]):
        df1['is_promo'][n] = 1
        #print('Está na promoção!!')
    else:
        df1['is_promo'][n] = 0 
        #print('Não está na promoção')
        


#verificando o tipo das colunas
df1.dtypes

#alterando as colunas para o tipo INT
df1['competition_open_since_month'] = df1['competition_open_since_month'].astype(int)     
df1['competition_open_since_year'] = df1['competition_open_since_year'].astype(int)
df1['promo2_since_week'] = df1['promo2_since_week'].astype(int) 
df1['promo2_since_year'] = df1['promo2_since_year'].astype(int) 

#DESCRIÇÃO ESTATISTICA 

#criando variavel com somente atributos numéricos
num_attributes = df1.select_dtypes(include=['int64', 'float64'])

#criando variavel com somente atributos categoricos 
cat_attributes = df1.select_dtypes(exclude=['int64', 'float64', 'datetime64[ns]'])

#central tendency - mean, median 
ct1 = pd.DataFrame(num_attributes.apply(np.mean)).T
ct2 = pd.DataFrame(num_attributes.apply(np.median)).T
        
#dispersion - std, min, max, range, skew, kurtosis     
d1 = pd.DataFrame(num_attributes.apply(np.std)).T
d2 = pd.DataFrame(num_attributes.apply(min)).T
d3 = pd.DataFrame(num_attributes.apply(max)).T        
d4 = pd.DataFrame(num_attributes.apply(lambda x: x.max() - x.min())).T        
d5 = pd.DataFrame(num_attributes.apply(lambda x: x.skew())).T        
d6 = pd.DataFrame(num_attributes.apply(lambda x: x.kurtosis())).T 

#concatenate
m = pd.concatenate([d2, d3, d4, ct1, ct2, d1, d5, d6]).T.reset_index()
m.columns = ['attributes', 'min', 'max', 'range', 'mean', 'median', 'std', 'skew', 'kurtosis']


#plotando a coluna sales 
sns.distplot(df1['sales'])
sns.distplot(df1['competition_distance'])

#CATEGORICAL ATRIBUTES 
cat_attributes.apply(lambda x: x.unique().shape[0])

#criando variavel com valores diferentes de 0 
aux1 = df1[(df1['state_holiday' != '0']) & (df1['sales'] > 0)]

#fazendo a plotagem para detecção de outliers 
plt.subplot(1,3,1)
sns.bloxplot(x='state_holiday', y='sales', data=aux1 )

plt.subplot(1,3,2)
sns.bloxplot(x='store_type', y='sales', data=aux1 )

plt.subplot(1,3,3)
sns.bloxplot(x='assortment', y='sales', data=aux1 )


#FEATURE ENGINEERING

#criando uma cópia do data frame, para ter um backup
df2 = df1.copy()

#fazendo a criação de novas variáveis 
#year 
df2['year'] = df2['date'].dt.year

#month 
df2['month'] = df2['date'].dt.month

#day 
df2['day'] = df2['date'].dt.day

#week of year 
df2['week_of_year'] = df2['date'].dt.weekofyear

#year week 
df2['year_week'] = df2['date'].dt.strftime('%Y-%W')

#competition since 
df2['competition_since'] = df2.apply(lambda x: datetime.datetime(year=x['competition_open_since_year'], month=['competition_open_since_month'], day=1), axis=1)

df2['competition_since'] = ((df2['date'] - df2['competition_since'] ) /30).apply(lambda x: x.days).astype(int)

#promo since
df2['promo_since'] = df2['promo2_since_year'].astype(str) + '-' + df2['promo2_since_week'].astype(str)

df2['promo_since'] = df2['promo_since'].apply(lambda x: datetime.datetime.strftime(x + '-1', '%Y-%W-%w') - datetime.timedelta(days=7))

df2['promo_time_week'] = ((df2['date'] - df2['promo_since'])/7).apply(lambda x: x.days).astype(int)

#assortment 
df2['assortment'] = df2['assortment'].apply(lambda x: 'basic' if x == 'a' else 'extra' if x == 'b' else 'extended')

#mesma forma de fazer o código acima, com a diferença que com 7M(ou mais) de linhas no DF a linha de cima desempenha melhor 
'''for n in range(len(df2)):
    if df2['assortment'][n] == 'a':
        df2['assortment'][n] = 'basic'
        
    if df2['assortment'][n] == 'b':
        df2['assortment'][n] = 'extra'
        
    else:
        df2['assortment'][n] = 'extended'''
        

#state holiday
df2['state_holiday'] = df2['state_holiday'].apply(lambda x: 'public_holiday' if x == 'a' else 'easter_holiday' if x == 'b' else 'christmas' if x == 'c' else 'regular_day')

#mesma forma de fazer o código acima, com a diferença que com 7M(ou mais) de linhas no DF a linha de cima desempenha melhor 
'''for n in range(len(df2)):
    if df2['assortment'][n] == 'a':
        df2['assortment'][n] = 'public_holiday'
        
    if df2['assortment'][n] == 'b':
        df2['assortment'][n] = 'easter_holiday'
        
    if df2['assortment'][n] == 'c':
        df2['assortment'][n] = 'christmas'
        
    else:
        df2['assortment'][n] = 'regular_day'''


#FILTAGREM DE VARIAVEIS 

#criando uma cópia do data frame, para ter um backup
df3 = df2.copy()

#FILTRAGEM DE LINHAS 
df3 = df3[(df3['open'] != 0) & (df3['sales'] > 0)]

cols_drop = ['customers', 'open', 'promo_interval', 'month_map']

cols_drop = df3.drop(cols_drop, axis=1)







































        
        
        
        
        
        